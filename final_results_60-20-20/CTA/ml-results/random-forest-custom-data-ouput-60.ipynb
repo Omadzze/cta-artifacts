{
 "cells": [
  {
   "metadata": {
    "tags": [
     "parameters"
    ],
    "trusted": false,
    "ExecuteTime": {
     "end_time": "2025-08-13T16:18:16.029490Z",
     "start_time": "2025-08-13T16:18:16.000468Z"
    }
   },
   "cell_type": "code",
   "source": "data_dir = \"../custom_data\"\nrun_id = 1\nout_dir = \"/home/omadbek/projects/run_all/out-notebooks-cta/ml-results\"",
   "id": "f64eea30893e173e",
   "outputs": [],
   "execution_count": 36
  },
  {
   "metadata": {
    "trusted": false,
    "ExecuteTime": {
     "end_time": "2025-08-13T16:18:16.144310Z",
     "start_time": "2025-08-13T16:18:16.119824Z"
    }
   },
   "cell_type": "code",
   "source": "model_id = 'sherlock'",
   "id": "c61ec4ccb7952520",
   "outputs": [],
   "execution_count": 37
  },
  {
   "metadata": {
    "trusted": false,
    "ExecuteTime": {
     "end_time": "2025-08-13T16:18:16.297609Z",
     "start_time": "2025-08-13T16:18:16.267973Z"
    }
   },
   "cell_type": "code",
   "source": "%env PYTHONHASHSEED=13\n%env PYTHONHASHSEED",
   "id": "f6aaa0e34cc802ec",
   "outputs": [
    {
     "name": "stdout",
     "output_type": "stream",
     "text": [
      "env: PYTHONHASHSEED=13\n"
     ]
    },
    {
     "data": {
      "text/plain": [
       "'13'"
      ]
     },
     "execution_count": 38,
     "metadata": {},
     "output_type": "execute_result"
    }
   ],
   "execution_count": 38
  },
  {
   "cell_type": "code",
   "id": "initial_id",
   "metadata": {
    "collapsed": true,
    "trusted": false,
    "ExecuteTime": {
     "end_time": "2025-08-13T16:18:16.452071Z",
     "start_time": "2025-08-13T16:18:16.425106Z"
    }
   },
   "source": "from pandas.core.arrays.integer import dtype\n%load_ext autoreload\n%autoreload 2",
   "outputs": [
    {
     "name": "stdout",
     "output_type": "stream",
     "text": [
      "The autoreload extension is already loaded. To reload it, use:\n",
      "  %reload_ext autoreload\n"
     ]
    }
   ],
   "execution_count": 39
  },
  {
   "metadata": {
    "trusted": false,
    "ExecuteTime": {
     "end_time": "2025-08-13T16:18:16.631913Z",
     "start_time": "2025-08-13T16:18:16.604437Z"
    }
   },
   "cell_type": "code",
   "source": [
    "import itertools\n",
    "\n",
    "from ast import literal_eval\n",
    "from collections import Counter\n",
    "from datetime import datetime\n",
    "\n",
    "import pandas as pd\n",
    "import numpy as np\n",
    "\n",
    "from sklearn.ensemble import ExtraTreesClassifier, RandomForestClassifier, VotingClassifier\n",
    "from sklearn.preprocessing import LabelEncoder\n",
    "from sklearn.metrics import classification_report, f1_score, accuracy_score\n",
    "#from sklearn.ensemble import ExtraTreesClassifier,\n",
    "#from sklearn.preprocessing import LabelEncoder\n",
    "#from sklearn.metrics import classification_report, f1_score\n",
    "from sklearn.model_selection import StratifiedKFold, cross_validate\n",
    "\n",
    "from matplotlib import pyplot as plt\n",
    "import time\n",
    "import os"
   ],
   "id": "84622adb602e1b58",
   "outputs": [],
   "execution_count": 40
  },
  {
   "metadata": {},
   "cell_type": "markdown",
   "source": "### Train",
   "id": "a0a698142ce4a830"
  },
  {
   "metadata": {
    "trusted": false,
    "ExecuteTime": {
     "end_time": "2025-08-13T16:18:16.899403Z",
     "start_time": "2025-08-13T16:18:16.897146Z"
    }
   },
   "cell_type": "code",
   "source": "",
   "id": "22dd4348643301c1",
   "outputs": [],
   "execution_count": null
  },
  {
   "metadata": {
    "trusted": false,
    "ExecuteTime": {
     "end_time": "2025-08-13T16:18:17.275079Z",
     "start_time": "2025-08-13T16:18:17.053090Z"
    }
   },
   "cell_type": "code",
   "source": "X_train = pd.read_parquet(f\"{data_dir}/processed/train.parquet\")\ny_train = pd.read_parquet(f\"{data_dir}/raw/train_labels.parquet\").values.flatten()\n\ny_train = np.array([x.lower() for x in y_train])",
   "id": "63a9088b8acaeed9",
   "outputs": [],
   "execution_count": 41
  },
  {
   "metadata": {},
   "cell_type": "markdown",
   "source": "### Validation",
   "id": "638d0c551e21292a"
  },
  {
   "metadata": {
    "trusted": false,
    "ExecuteTime": {
     "end_time": "2025-08-13T16:18:17.572505Z",
     "start_time": "2025-08-13T16:18:17.361451Z"
    }
   },
   "cell_type": "code",
   "source": "X_validation = pd.read_parquet(f\"{data_dir}/processed/validation.parquet\")\ny_validation = pd.read_parquet(f\"{data_dir}/raw/validation_labels.parquet\").values.flatten()\n\ny_validation = np.array([x.lower() for x in y_validation])",
   "id": "e868d56cafbef000",
   "outputs": [],
   "execution_count": 42
  },
  {
   "metadata": {},
   "cell_type": "markdown",
   "source": "### Testing",
   "id": "5956a814f4ad45b5"
  },
  {
   "metadata": {
    "trusted": false,
    "ExecuteTime": {
     "end_time": "2025-08-13T16:18:17.922142Z",
     "start_time": "2025-08-13T16:18:17.715713Z"
    }
   },
   "cell_type": "code",
   "source": "X_test = pd.read_parquet(f\"{data_dir}/processed/test.parquet\")\ny_test = pd.read_parquet(f\"{data_dir}/raw/test_labels.parquet\").values.flatten()\n\ny_test = np.array([x.lower() for x in y_test])",
   "id": "86bf08320f0a4674",
   "outputs": [],
   "execution_count": 43
  },
  {
   "metadata": {},
   "cell_type": "markdown",
   "source": "### Contact train and val",
   "id": "990daa59c8bf82f8"
  },
  {
   "metadata": {
    "trusted": false,
    "ExecuteTime": {
     "end_time": "2025-08-13T16:18:18.502514Z",
     "start_time": "2025-08-13T16:18:18.476326Z"
    }
   },
   "cell_type": "code",
   "source": "X_train = pd.concat([X_train, X_validation], ignore_index=True)\ny_train = np.array([x.lower() for x in itertools.chain(y_train, y_validation)])",
   "id": "2aed76a0f34ecc46",
   "outputs": [],
   "execution_count": 44
  },
  {
   "metadata": {
    "trusted": false,
    "ExecuteTime": {
     "end_time": "2025-08-13T16:18:18.862476Z",
     "start_time": "2025-08-13T16:18:18.831019Z"
    }
   },
   "cell_type": "code",
   "source": "def save_metrics(name: str, raw_report, y_true, run_id: int, inference_time):\n\n    run_name = f\"{name}-run-{run_id}\"\n\n    n = len(y_true)\n\n    # 2. flatten into a single dict\n    flat = {}\n    for label, metrics in raw_report.items():\n        if label == \"accuracy\":\n            flat[\"accuracy\"] = metrics\n        else:\n            for metric_name, val in metrics.items():\n                # replace any dashes so your CSV columns are valid identifiers\n                clean_metric = metric_name.replace(\"-\", \"_\")\n                flat[f\"{label}_{clean_metric}\"] = val\n\n\n    flat[\"total_entries\"] = n\n    flat[\"run_name\"]      = run_name\n    flat[\"inference_time\"] = f\"{inference_time:.2f}s\"\n\n\n    df = pd.DataFrame([flat])\n    metrics_csv = os.path.join(out_dir, f\"{name}-metrics.csv\")\n\n    # only write header if file doesn’t exist\n    if not os.path.isfile(metrics_csv):\n        df.to_csv(metrics_csv, index=False, float_format=\"%.4f\")\n    else:\n        df.to_csv(metrics_csv, mode=\"a\", header=False, index=False, float_format=\"%.4f\")",
   "id": "ec718740fd3dd657",
   "outputs": [],
   "execution_count": 45
  },
  {
   "metadata": {},
   "cell_type": "markdown",
   "source": "## Cross Validation",
   "id": "45cf42b2a2c3102"
  },
  {
   "metadata": {
    "ExecuteTime": {
     "end_time": "2025-08-13T16:18:19.633397Z",
     "start_time": "2025-08-13T16:18:19.602711Z"
    }
   },
   "cell_type": "code",
   "source": [
    "def mstd(x):\n",
    "    return f\"{np.mean(x):.3f} ± {np.std(x):.3f}\"\n",
    "\n",
    "def cross_validation(model):\n",
    "    # --- 5-fold stratified CV on the 80% trainval ---\n",
    "    cv = StratifiedKFold(n_splits=5, shuffle=True, random_state=13)\n",
    "    scoring = {\n",
    "        \"f1_macro\": \"f1_macro\",\n",
    "        \"f1_weighted\": \"f1_weighted\",\n",
    "        \"accuracy\": \"accuracy\",\n",
    "    }\n",
    "\n",
    "    cv_res = cross_validate(\n",
    "        estimator=model,\n",
    "        X=X_train,\n",
    "        y=y_train_enc,\n",
    "        cv=cv,\n",
    "        scoring=scoring,\n",
    "        n_jobs=-1,\n",
    "        return_train_score=False,\n",
    "        return_estimator=False,\n",
    "    )\n",
    "\n",
    "    print(\"[CV 5-fold] \"\n",
    "      f\"macro-F1: {mstd(cv_res['test_f1_macro'])} | \"\n",
    "      f\"weighted-F1: {mstd(cv_res['test_f1_weighted'])} | \"\n",
    "      f\"acc: {mstd(cv_res['test_accuracy'])}\")\n",
    "\n",
    "    print(f\"fit_time per fold (s): {mstd(cv_res['fit_time'])}, score_time per fold (s): {mstd(cv_res['score_time'])}\")\n",
    "\n",
    "def results(y_test_enc, y_pred_test, le):\n",
    "\n",
    "    print(\"\\n[Holdout 20% test]\")\n",
    "    print(\"macro-F1:\", f1_score(y_test_enc, y_pred_test, average=\"macro\"))\n",
    "    print(\"weighted-F1:\", f1_score(y_test_enc, y_pred_test, average=\"weighted\"))\n",
    "    print(\"accuracy:\", accuracy_score(y_test_enc, y_pred_test))\n",
    "    print(\"\\nPer-class report:\")\n",
    "    print(classification_report(y_test_enc, y_pred_test, target_names=le.classes_))"
   ],
   "id": "fc35e9a02f743fe9",
   "outputs": [],
   "execution_count": 46
  },
  {
   "metadata": {},
   "cell_type": "markdown",
   "source": "### Train Voting Classifier using RFC and ETC",
   "id": "d3fc7a044e605641"
  },
  {
   "metadata": {
    "trusted": false,
    "ExecuteTime": {
     "end_time": "2025-08-13T16:18:20.461450Z",
     "start_time": "2025-08-13T16:18:20.433312Z"
    }
   },
   "cell_type": "code",
   "source": "le = LabelEncoder()\nle.fit(y_train)                     # fit on trainval only\ny_train_enc = le.transform(y_train)\ny_test_enc  = le.transform(y_test)  # ensure all test labels exist in trainval",
   "id": "23145fa36c0b0610",
   "outputs": [],
   "execution_count": 47
  },
  {
   "metadata": {
    "trusted": false,
    "ExecuteTime": {
     "end_time": "2025-08-13T16:18:20.720038Z",
     "start_time": "2025-08-13T16:18:20.693408Z"
    }
   },
   "cell_type": "code",
   "source": [
    "# Model\n",
    "voting_clf = VotingClassifier(\n",
    "    estimators=[\n",
    "        ('rf', RandomForestClassifier(n_estimators=100, random_state=13, n_jobs=-1)),\n",
    "        ('et', ExtraTreesClassifier(n_estimators=100, random_state=13, n_jobs=-1))\n",
    "    ],\n",
    "    voting='soft'\n",
    ")\n"
   ],
   "id": "6285688d0d62cd59",
   "outputs": [],
   "execution_count": 48
  },
  {
   "metadata": {
    "trusted": false,
    "ExecuteTime": {
     "end_time": "2025-08-13T16:18:25.149126Z",
     "start_time": "2025-08-13T16:18:20.988421Z"
    }
   },
   "cell_type": "code",
   "source": [
    "cross_validation(voting_clf)\n",
    "\n",
    "voting_clf.fit(X_train, y_train_enc)\n",
    "y_pred_test = voting_clf.predict(X_test)\n",
    "\n",
    "results(y_test_enc, y_pred_test, le)"
   ],
   "id": "783dc8123edf0c89",
   "outputs": [
    {
     "name": "stdout",
     "output_type": "stream",
     "text": [
      "[CV 5-fold] macro-F1: 0.655 ± 0.076 | weighted-F1: 0.855 ± 0.047 | acc: 0.873 ± 0.040\n",
      "fit_time per fold (s): 0.541 ± 0.096, score_time per fold (s): 0.270 ± 0.025\n",
      "\n",
      "[Holdout 20% test]\n",
      "macro-F1: 0.833132444897151\n",
      "weighted-F1: 0.9113178400820063\n",
      "accuracy: 0.9174311926605505\n",
      "\n",
      "Per-class report:\n",
      "                 precision    recall  f1-score   support\n",
      "\n",
      "            age       1.00      0.50      0.67         4\n",
      "    case_status       0.80      0.80      0.80         5\n",
      "contact_setting       1.00      0.50      0.67         2\n",
      "           date       0.92      0.96      0.94        25\n",
      "         gender       1.00      1.00      1.00         4\n",
      "             id       1.00      1.00      1.00         9\n",
      "       location       0.80      1.00      0.89        12\n",
      "medical_boolean       0.95      0.97      0.96        40\n",
      "     occupation       1.00      0.50      0.67         2\n",
      "        outcome       0.67      0.50      0.57         4\n",
      "       symptoms       1.00      1.00      1.00         2\n",
      "\n",
      "       accuracy                           0.92       109\n",
      "      macro avg       0.92      0.79      0.83       109\n",
      "   weighted avg       0.92      0.92      0.91       109\n",
      "\n"
     ]
    }
   ],
   "execution_count": 49
  },
  {
   "metadata": {
    "trusted": false,
    "ExecuteTime": {
     "end_time": "2025-08-13T16:18:25.247412Z",
     "start_time": "2025-08-13T16:18:25.244290Z"
    }
   },
   "cell_type": "code",
   "source": "",
   "id": "ee68a2d2fb645760",
   "outputs": [],
   "execution_count": null
  },
  {
   "metadata": {},
   "cell_type": "markdown",
   "source": "# RFC",
   "id": "2042be7103036042"
  },
  {
   "metadata": {
    "ExecuteTime": {
     "end_time": "2025-08-13T16:18:26.358840Z",
     "start_time": "2025-08-13T16:18:25.298290Z"
    }
   },
   "cell_type": "code",
   "source": [
    "rf_model = RandomForestClassifier(n_estimators=100, random_state=13, n_jobs=-1)\n",
    "\n",
    "cross_validation(rf_model)\n",
    "\n",
    "rf_model.fit(X_train, y_train_enc)\n",
    "\n",
    "y_pred_test_rf = rf_model.predict(X_test)\n",
    "\n",
    "results(y_test_enc, y_pred_test_rf, le)"
   ],
   "id": "bf99774c57051c29",
   "outputs": [
    {
     "name": "stdout",
     "output_type": "stream",
     "text": [
      "[CV 5-fold] macro-F1: 0.640 ± 0.063 | weighted-F1: 0.849 ± 0.036 | acc: 0.869 ± 0.033\n",
      "fit_time per fold (s): 0.251 ± 0.004, score_time per fold (s): 0.137 ± 0.001\n",
      "\n",
      "[Holdout 20% test]\n",
      "macro-F1: 0.8369945034333277\n",
      "weighted-F1: 0.9197056599967546\n",
      "accuracy: 0.926605504587156\n",
      "\n",
      "Per-class report:\n",
      "                 precision    recall  f1-score   support\n",
      "\n",
      "            age       1.00      1.00      1.00         4\n",
      "    case_status       0.67      0.80      0.73         5\n",
      "contact_setting       1.00      0.50      0.67         2\n",
      "           date       1.00      0.96      0.98        25\n",
      "         gender       1.00      1.00      1.00         4\n",
      "             id       0.90      1.00      0.95         9\n",
      "       location       0.86      1.00      0.92        12\n",
      "medical_boolean       0.95      0.97      0.96        40\n",
      "     occupation       1.00      0.50      0.67         2\n",
      "        outcome       0.50      0.25      0.33         4\n",
      "       symptoms       1.00      1.00      1.00         2\n",
      "\n",
      "       accuracy                           0.93       109\n",
      "      macro avg       0.90      0.82      0.84       109\n",
      "   weighted avg       0.92      0.93      0.92       109\n",
      "\n"
     ]
    }
   ],
   "execution_count": 50
  },
  {
   "metadata": {},
   "cell_type": "markdown",
   "source": "# ETC",
   "id": "b14d9cfa60dae257"
  },
  {
   "metadata": {
    "ExecuteTime": {
     "end_time": "2025-08-13T16:18:27.257388Z",
     "start_time": "2025-08-13T16:18:26.433230Z"
    }
   },
   "cell_type": "code",
   "source": [
    "etc_model = ExtraTreesClassifier(n_estimators=100, random_state=13, n_jobs=-1)\n",
    "\n",
    "cross_validation(etc_model)\n",
    "\n",
    "etc_model.fit(X_train, y_train_enc)\n",
    "\n",
    "y_pred_test_etc = etc_model.predict(X_test)\n",
    "\n",
    "results(y_test_enc, y_pred_test_etc, le)"
   ],
   "id": "2faf5a277e7b3a92",
   "outputs": [
    {
     "name": "stdout",
     "output_type": "stream",
     "text": [
      "[CV 5-fold] macro-F1: 0.657 ± 0.083 | weighted-F1: 0.857 ± 0.050 | acc: 0.873 ± 0.044\n",
      "fit_time per fold (s): 0.146 ± 0.003, score_time per fold (s): 0.119 ± 0.002\n",
      "\n",
      "[Holdout 20% test]\n",
      "macro-F1: 0.8303085803085803\n",
      "weighted-F1: 0.9024095170884162\n",
      "accuracy: 0.908256880733945\n",
      "\n",
      "Per-class report:\n",
      "                 precision    recall  f1-score   support\n",
      "\n",
      "            age       1.00      0.50      0.67         4\n",
      "    case_status       0.80      0.80      0.80         5\n",
      "contact_setting       1.00      0.50      0.67         2\n",
      "           date       0.89      0.96      0.92        25\n",
      "         gender       1.00      1.00      1.00         4\n",
      "             id       1.00      1.00      1.00         9\n",
      "       location       0.80      1.00      0.89        12\n",
      "medical_boolean       0.95      0.95      0.95        40\n",
      "     occupation       1.00      0.50      0.67         2\n",
      "        outcome       0.67      0.50      0.57         4\n",
      "       symptoms       1.00      1.00      1.00         2\n",
      "\n",
      "       accuracy                           0.91       109\n",
      "      macro avg       0.92      0.79      0.83       109\n",
      "   weighted avg       0.91      0.91      0.90       109\n",
      "\n"
     ]
    }
   ],
   "execution_count": 51
  },
  {
   "metadata": {
    "trusted": false,
    "ExecuteTime": {
     "end_time": "2025-08-13T15:40:53.966793Z",
     "start_time": "2025-08-13T15:40:53.963482Z"
    }
   },
   "cell_type": "code",
   "source": "",
   "id": "a8fc0c033987e26b",
   "outputs": [],
   "execution_count": null
  },
  {
   "metadata": {},
   "cell_type": "markdown",
   "source": "### Features",
   "id": "6fa14168b3ed211e"
  },
  {
   "metadata": {
    "trusted": false
   },
   "cell_type": "code",
   "source": [
    "# # 1) Get importances\n",
    "# rf_imp = rf_clf.feature_importances_\n",
    "# et_imp = et_clf.feature_importances_\n",
    "#\n",
    "# # 2) Average them (simple mean)\n",
    "# avg_imp = (rf_imp + et_imp) / 2.0\n",
    "#\n",
    "# # 3) Create a DataFrame for easy sorting/plotting\n",
    "# feat_names = X_train.columns  # or whatever your feature names are\n",
    "# imp_df = pd.DataFrame({\n",
    "#     'feature': feat_names,\n",
    "#     'rf': rf_imp,\n",
    "#     'et': et_imp,\n",
    "#     'avg': avg_imp\n",
    "# }).sort_values('avg', ascending=False)\n",
    "#\n",
    "# # 4) View top 10\n",
    "# print(imp_df.head(10))"
   ],
   "id": "7a1bfa50fbed8c8a",
   "outputs": [],
   "execution_count": null
  },
  {
   "metadata": {},
   "cell_type": "markdown",
   "source": "###",
   "id": "e5dba882cc7227af"
  },
  {
   "metadata": {
    "trusted": false
   },
   "cell_type": "code",
   "source": [
    "# # 5) Plot\n",
    "# plt.figure(figsize=(8, 6))\n",
    "# plt.barh(imp_df['feature'].head(10)[::-1],\n",
    "#          imp_df['avg'].head(10)[::-1])\n",
    "# plt.xlabel(\"Mean Feature Importance\")\n",
    "# plt.title(\"Top 10 Features (averaged RF + ET)\")\n",
    "# plt.tight_layout()\n",
    "# plt.show()"
   ],
   "id": "ad9b1b30d2b32af7",
   "outputs": [],
   "execution_count": null
  },
  {
   "metadata": {
    "trusted": false
   },
   "cell_type": "code",
   "source": "",
   "id": "c4170a3664c191db",
   "outputs": [],
   "execution_count": null
  },
  {
   "metadata": {},
   "cell_type": "markdown",
   "source": "",
   "id": "5a306aba7c20a2d"
  },
  {
   "metadata": {},
   "cell_type": "markdown",
   "source": "### Predictions custom",
   "id": "a55b789c441a1fa6"
  },
  {
   "metadata": {
    "trusted": false
   },
   "cell_type": "code",
   "source": "# data = pd.Series(\n#     [\n#         [\"2024-02-30\", \"2020-03-01\", \"1982-12-30\"],\n#         [\"104805\", \"330956\", \"345609\"],\n#         [\"Male\", \"Female\"],\n#         [\"men\", \"women\"],\n#\n#     ],\n#     name=\"values\"\n# )",
   "id": "b7b247dadcaa6a12",
   "outputs": [],
   "execution_count": null
  },
  {
   "metadata": {
    "trusted": false
   },
   "cell_type": "code",
   "source": "#data",
   "id": "bd4389070be61dee",
   "outputs": [],
   "execution_count": null
  },
  {
   "metadata": {
    "trusted": false
   },
   "cell_type": "code",
   "source": "# from sherlock.features.preprocessing import extract_features\n#\n# extract_features(\n#     \"../check.csv\",\n#     data\n# )\n# feature_vectors = pd.read_csv(\"../check.csv\", dtype=np.float32)",
   "id": "4bafb85cf300577f",
   "outputs": [],
   "execution_count": null
  },
  {
   "metadata": {
    "trusted": false
   },
   "cell_type": "code",
   "source": "#feature_vectors",
   "id": "f4a1a719048719c1",
   "outputs": [],
   "execution_count": null
  },
  {
   "metadata": {
    "trusted": false
   },
   "cell_type": "code",
   "source": "#train_columns_means = pd.DataFrame(feature_vectors.mean()).transpose()\n#feature_vectors.fillna(train_columns_means.iloc[0], inplace=True)",
   "id": "944c929b6981d489",
   "outputs": [],
   "execution_count": null
  },
  {
   "metadata": {
    "trusted": false
   },
   "cell_type": "code",
   "source": "#model = rf_clf\n\n# 1) Ensemble predictions on training set\n#y_pred_ensemble = voting_clf.predict(feature_vectors)\n\n#print(y_pred_ensemble)\n\n# 2) RandomForest‐only predictions on training set",
   "id": "1ad36b301dad2390",
   "outputs": [],
   "execution_count": null
  },
  {
   "metadata": {},
   "cell_type": "markdown",
   "source": "### ETC Error analysis",
   "id": "a902df78f280eaa4"
  },
  {
   "metadata": {
    "trusted": false
   },
   "cell_type": "code",
   "source": "\n# import numpy as np\n# import pandas as pd\n#\n# # 1. Get probabilities and turn them into labels\n# probs = et_clf.predict_proba(X_test)               # shape (n_samples, n_classes)\n# preds = predicted_labels(probs, le)                # your helper that maps probs→class\n#\n# # 2. Make a small DataFrame to hold everything\n# df = pd.DataFrame({\n#     \"true\":   y_test,\n#     \"pred\":   preds,\n# })\n# # 3. Attach each class‐probability as its own column\n# for idx, cls in enumerate(le.classes_):\n#     df[f\"prob_{cls}\"] = probs[:, idx]\n#\n# # 4. Flag the mistakes\n# df[\"correct\"] = (df[\"true\"] == df[\"pred\"])\n#\n# # 5. Slice out just the errors\n# errors = df[df[\"correct\"] == False]\n#\n# # 6. (Optionally) sort by how “confidently wrong” it was\n# #    i.e. predicted‐prob minus true‐prob\n# errors[\"confidence_gap\"] = errors.apply(\n#     lambda row: row[f\"prob_{row['pred']}\"] - row[f\"prob_{row['true']}\"], axis=1\n# )\n# errors = errors.sort_values(\"confidence_gap\", ascending=False)\n#\n# # 7. Inspect\n# print(f\"Total errors: {len(errors)} / {len(df)}\")\n# print(errors[[\n#                  \"true\",\n#                  \"pred\",\n#                  \"confidence_gap\",\n#              ] + [f\"prob_{cls}\" for cls in le.classes_]].head(10))",
   "id": "4efcaba1f24b4839",
   "outputs": [],
   "execution_count": null
  },
  {
   "metadata": {
    "trusted": false
   },
   "cell_type": "code",
   "source": "",
   "id": "244dae9667cd9959",
   "outputs": [],
   "execution_count": null
  },
  {
   "metadata": {
    "trusted": false
   },
   "cell_type": "code",
   "source": "",
   "id": "bc183d38a26283a3",
   "outputs": [],
   "execution_count": null
  },
  {
   "metadata": {
    "trusted": false
   },
   "cell_type": "code",
   "source": "",
   "id": "2b7bf4fcef00a8e2",
   "outputs": [],
   "execution_count": null
  }
 ],
 "metadata": {
  "kernelspec": {
   "display_name": "Python 3",
   "language": "python",
   "name": "python3"
  },
  "language_info": {
   "codemirror_mode": {
    "name": "ipython",
    "version": 2
   },
   "file_extension": ".py",
   "mimetype": "text/x-python",
   "name": "python",
   "nbconvert_exporter": "python",
   "pygments_lexer": "ipython2",
   "version": "2.7.6"
  }
 },
 "nbformat": 4,
 "nbformat_minor": 5
}
