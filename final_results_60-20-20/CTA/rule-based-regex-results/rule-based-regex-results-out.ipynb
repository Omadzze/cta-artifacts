{
 "cells": [
  {
   "cell_type": "code",
   "execution_count": 1,
   "id": "e2e2a42166ed3da7",
   "metadata": {
    "ExecuteTime": {
     "end_time": "2025-07-22T14:18:11.526833Z",
     "start_time": "2025-07-22T14:18:11.522489Z"
    },
    "execution": {
     "iopub.execute_input": "2025-08-10T14:51:34.569616Z",
     "iopub.status.busy": "2025-08-10T14:51:34.569108Z",
     "iopub.status.idle": "2025-08-10T14:51:34.575425Z",
     "shell.execute_reply": "2025-08-10T14:51:34.574402Z"
    },
    "papermill": {
     "duration": 0.013285,
     "end_time": "2025-08-10T14:51:34.577434",
     "exception": false,
     "start_time": "2025-08-10T14:51:34.564149",
     "status": "completed"
    },
    "tags": [
     "parameters"
    ]
   },
   "outputs": [],
   "source": [
    "data_dir = \"../custom_data/raw\"\n",
    "out_dir = \"/home/omadbek/projects/run_all/out-notebooks-cta/rule-based-regex-results\"\n",
    "run_id   = 1"
   ]
  },
  {
   "cell_type": "code",
   "execution_count": 2,
   "id": "02dc2851",
   "metadata": {
    "execution": {
     "iopub.execute_input": "2025-08-10T14:51:34.584359Z",
     "iopub.status.busy": "2025-08-10T14:51:34.584081Z",
     "iopub.status.idle": "2025-08-10T14:51:34.588318Z",
     "shell.execute_reply": "2025-08-10T14:51:34.587469Z"
    },
    "papermill": {
     "duration": 0.009601,
     "end_time": "2025-08-10T14:51:34.590051",
     "exception": false,
     "start_time": "2025-08-10T14:51:34.580450",
     "status": "completed"
    },
    "tags": [
     "injected-parameters"
    ]
   },
   "outputs": [],
   "source": [
    "# Parameters\n",
    "data_dir = \"/home/omadbek/projects/Sherlock/custom_data/raw\"\n",
    "out_dir = \"/home/omadbek/projects/run_all/out-notebooks-cta/rule-based-regex-results\"\n",
    "run_id = 10\n"
   ]
  },
  {
   "cell_type": "code",
   "execution_count": 3,
   "id": "3a05e131edff8347",
   "metadata": {
    "ExecuteTime": {
     "end_time": "2025-07-22T14:18:12.242254Z",
     "start_time": "2025-07-22T14:18:12.237094Z"
    },
    "execution": {
     "iopub.execute_input": "2025-08-10T14:51:34.596969Z",
     "iopub.status.busy": "2025-08-10T14:51:34.596490Z",
     "iopub.status.idle": "2025-08-10T14:51:34.607597Z",
     "shell.execute_reply": "2025-08-10T14:51:34.606742Z"
    },
    "papermill": {
     "duration": 0.016541,
     "end_time": "2025-08-10T14:51:34.609357",
     "exception": false,
     "start_time": "2025-08-10T14:51:34.592816",
     "status": "completed"
    },
    "tags": []
   },
   "outputs": [
    {
     "name": "stdout",
     "output_type": "stream",
     "text": [
      "env: PYTHONHASHSEED=13\n"
     ]
    },
    {
     "data": {
      "text/plain": [
       "'13'"
      ]
     },
     "execution_count": 3,
     "metadata": {},
     "output_type": "execute_result"
    }
   ],
   "source": [
    "%env PYTHONHASHSEED=13\n",
    "%env PYTHONHASHSEED"
   ]
  },
  {
   "cell_type": "code",
   "execution_count": 4,
   "id": "43c85d6e30df7f27",
   "metadata": {
    "ExecuteTime": {
     "end_time": "2025-07-22T14:18:13.789603Z",
     "start_time": "2025-07-22T14:18:12.932483Z"
    },
    "execution": {
     "iopub.execute_input": "2025-08-10T14:51:34.616575Z",
     "iopub.status.busy": "2025-08-10T14:51:34.616295Z",
     "iopub.status.idle": "2025-08-10T14:51:35.126580Z",
     "shell.execute_reply": "2025-08-10T14:51:35.125740Z"
    },
    "papermill": {
     "duration": 0.515835,
     "end_time": "2025-08-10T14:51:35.128224",
     "exception": false,
     "start_time": "2025-08-10T14:51:34.612389",
     "status": "completed"
    },
    "tags": []
   },
   "outputs": [],
   "source": [
    "from pathlib import Path\n",
    "import pandas as pd\n",
    "import numpy as np\n",
    "from sklearn.metrics import classification_report, f1_score\n",
    "import re\n",
    "from enum import unique\n",
    "from typing import Sequence, Optional\n",
    "import time"
   ]
  },
  {
   "cell_type": "code",
   "execution_count": 5,
   "id": "initial_id",
   "metadata": {
    "ExecuteTime": {
     "end_time": "2025-07-22T14:18:14.698168Z",
     "start_time": "2025-07-22T14:18:14.686803Z"
    },
    "collapsed": true,
    "execution": {
     "iopub.execute_input": "2025-08-10T14:51:35.136749Z",
     "iopub.status.busy": "2025-08-10T14:51:35.136495Z",
     "iopub.status.idle": "2025-08-10T14:51:35.150332Z",
     "shell.execute_reply": "2025-08-10T14:51:35.149663Z"
    },
    "papermill": {
     "duration": 0.019125,
     "end_time": "2025-08-10T14:51:35.151431",
     "exception": false,
     "start_time": "2025-08-10T14:51:35.132306",
     "status": "completed"
    },
    "tags": []
   },
   "outputs": [],
   "source": [
    "ISO_DATE        = re.compile(r'^(19|20)\\d{2}-[01]\\d-[0-3]\\d$')\n",
    "SLASH_DATE      = re.compile(r'^[0-3]\\d/[01]\\d/(19|20)\\d{2}$')\n",
    "VACC_DATE       = re.compile(r'^\\d{6}_\\w{7,8}$')              # 240119_46576392\n",
    "EXCEL_SERIAL    = re.compile(r'^\\d{5,6}(\\.0)?$')\n",
    "HEX_ID          = re.compile(r'^[0-9a-f]{6,64}$', re.IGNORECASE)\n",
    "GENOMIC_ID      = re.compile(r'^EPI_ISL_\\d{6,9}$', re.IGNORECASE)\n",
    "AGE_PAT         = re.compile(r'^(0?\\d{1,2}|1[01]\\d|120)(\\.0)?$')\n",
    "\n",
    "DATE_RE = re.compile(\n",
    "    r'^(?:'\n",
    "    # ISO dates: YYYY-MM-DD, years 1900–2099, months 01–12, days 01–31\n",
    "    r'(?:19|20)\\d{2}-(?:0[1-9]|1[0-2])-(?:0[1-9]|[12]\\d|3[01])'\n",
    "    r'|'\n",
    "    # Slashed dates: DD/MM/YYYY, days 01–31, months 01–12, years 1900–2099\n",
    "    r'(?:0[1-9]|[12]\\d|3[01])/(?:0[1-9]|1[0-2])/(?:19|20)\\d{2}'\n",
    "    r'|'\n",
    "    # Vaccine codes: six digits, underscore, 7–8 alnum chars\n",
    "    r'\\d{6}_[A-Za-z0-9]{7,8}'\n",
    "    r'|'\n",
    "    # Excel serials: 5–6 digits, optional “.0”\n",
    "    r'\\d{5,6}(?:\\.0)?'\n",
    "    r')$'\n",
    ")\n",
    "\n",
    "GENERAL_ID = re.compile(\n",
    "    r'^(?=.*[A-Za-z])(?=.*\\d)[A-Za-z0-9.-]{3,30}$',\n",
    "    re.VERBOSE\n",
    ")\n",
    "\n",
    "\n",
    "YES_NO          = re.compile(\n",
    "    r'^(yes|no|oui|non|unknown|inconnu|y|n|0\\.0|1\\.0)$',\n",
    "    re.IGNORECASE\n",
    ")\n",
    "GENDER_PAT      = re.compile(\n",
    "    r'^(male|female|m|f|other)$',\n",
    "    re.IGNORECASE\n",
    ")\n",
    "OUTCOME_PAT     = re.compile(\n",
    "    r'^(recovered|died|alive|deceased|discharged.*|not recovered|other)$',\n",
    "    re.IGNORECASE\n",
    ")\n",
    "CASE_STATUS_PAT = re.compile(\n",
    "    r'^(confirme?|prob|disc|suspected case|invalidée|confirmed case)$',\n",
    "    re.IGNORECASE\n",
    ")\n",
    "\n",
    "SYM_DELIMS      = re.compile(r'[|;/]')   # just to token-split if you need\n",
    "\n",
    "# comma-separated list of roles/persons\n",
    "CONTACT_COMMENT_PAT = re.compile(\n",
    "    r\"^[A-Z][a-z'-]+ [A-Z][a-z'-]+\"\n",
    "    r\"(?:, ?[A-Z][a-z'-]+ [A-Z][a-z'-]+)*$\"\n",
    ")\n",
    "\n",
    "# confirmation method options\n",
    "CONFIRMATION_METHOD_PAT = re.compile(\n",
    "    r'^(?:clinical signs and symptoms only|laboratory confirmed|other|samples)'\n",
    "    r'(?:,(?:clinical signs and symptoms only|laboratory confirmed|other|samples))*$',\n",
    "    re.IGNORECASE\n",
    ")\n",
    "\n",
    "# crude pipe-delimited contact_animal entries\n",
    "CONTACT_ANIMAL_PAT = re.compile(r'.*\\|.*')\n",
    "\n",
    "# comma-separated list of occupations (allow slash, hyphens, semicolons)\n",
    "# strict list of known occupations, case‐insensitive\n",
    "titles = [\n",
    "    \"doctor\",\"nurse\",\"teacher\",\"driver\",\"farmer\",\"student\",\"engineer\",\n",
    "    \"chef\",\"laborer\",\"police officer\",\"police\",\"soldier\",\"technician\",\n",
    "    \"manager\",\"cleaner\",\"waiter\"\n",
    "]\n",
    "\n",
    "# build an “alternation” of those titles, escaping spaces\n",
    "escaped = [re.escape(t) for t in titles]\n",
    "group   = \"|\".join(escaped)\n",
    "\n",
    "OCCUPATION_PAT = re.compile(\n",
    "    r'(?i)^'                   # inline case-insensitive, at the very start\n",
    "    r'(?:' + group + r')'      # one of the known titles\n",
    "                     r'(?:'                     # optional repeat...\n",
    "                     r'(?:,\\s*|;\\s*|/\\s*)'    #   separator\n",
    "                     r'(?:' + group + r')'    #   another title\n",
    "                                      r')*'                      # zero or more\n",
    "                                      r'$'                       # end of string\n",
    ")\n",
    "\n",
    "LOCATION_PAT = re.compile(\n",
    "    r\"^[A-Z][A-Za-zÀ-ÿ' .-]{3,}(?:, ?[A-Z][A-Za-z]{2,})?$\"\n",
    ")\n",
    "\n",
    "# known pathogens\n",
    "PATHOGEN_PAT = re.compile(r'^(?:novhep|cholera)$', re.IGNORECASE)\n",
    "\n",
    "# generic comma-separated source identifiers (allow underscores, slashes)\n",
    "SOURCE_PAT = re.compile(\n",
    "    r'^(?:[A-Z]{2,5}\\d{2,}|https?://)', re.IGNORECASE\n",
    ")\n",
    "# ------------------------------------------------------------------ #\n",
    "# RULES  label → list[pattern]                                       #\n",
    "# first pattern that matches *one* value wins                        #\n",
    "# ------------------------------------------------------------------ #\n",
    "RULES = {\n",
    "    \"date\":               [ISO_DATE, SLASH_DATE, VACC_DATE, EXCEL_SERIAL, DATE_RE],\n",
    "    \"id\":                 [GENERAL_ID],\n",
    "    \"age\":                [AGE_PAT],\n",
    "    \"medical_boolean\":    [YES_NO],\n",
    "    \"gender\":             [GENDER_PAT],\n",
    "    \"outcome\":            [OUTCOME_PAT],\n",
    "    \"case_status\":        [CASE_STATUS_PAT],\n",
    "    \"genomics_metadata\":  [GENOMIC_ID],\n",
    "    \"location\":           [LOCATION_PAT],\n",
    "    \"symptoms\":           [re.compile(r'[A-Za-z]{3,}.*\\|.*')],     # crude pipe-list\n",
    "    \"pre_existing_condition\": [\n",
    "        re.compile(r'^(diab|hyper|neuro|none|preg|yes|no)$', re.IGNORECASE)\n",
    "    ],\n",
    "    \"contact_setting\":    [\n",
    "        re.compile(r'^(famille|funerailles|communaute|household|school)$', re.IGNORECASE)\n",
    "    ],\n",
    "    \"transmission\":       [\n",
    "        re.compile(r'^(funerailles|communautaire|nosocomiale)$', re.IGNORECASE)\n",
    "    ],\n",
    "    \"vaccine_name\":       [\n",
    "        re.compile(r'^(pfizer|moderna|com)$', re.IGNORECASE)\n",
    "    ],\n",
    "    \"demographic\":        [\n",
    "        re.compile(r'^(male|female|other|age|m|f)$', re.IGNORECASE)\n",
    "    ],\n",
    "    # new fields:\n",
    "    \"contact_comment\":    [CONTACT_COMMENT_PAT],\n",
    "    \"confirmation_method\": [CONFIRMATION_METHOD_PAT],\n",
    "    \"contact_animal\":      [CONTACT_ANIMAL_PAT],\n",
    "    \"occupation\":          [OCCUPATION_PAT],\n",
    "    \"pathogen\":            [PATHOGEN_PAT],\n",
    "    \"source\":              [SOURCE_PAT],\n",
    "\n",
    "}\n",
    "\n",
    "\n",
    "DELIM_RE = re.compile(r'[|,;/]')\n",
    "\n",
    "def classify_column(values: Sequence[str]) -> Optional[str]:\n",
    "    for label, patterns in RULES.items():\n",
    "        for pat in patterns:\n",
    "            # look at every raw cell…\n",
    "            for raw in values:\n",
    "                if raw is None:\n",
    "                    continue\n",
    "                # split into pieces\n",
    "                for token in DELIM_RE.split(str(raw).strip()):\n",
    "                    if pat.match(token.strip()):\n",
    "                        return label\n",
    "    return None"
   ]
  },
  {
   "cell_type": "code",
   "execution_count": 6,
   "id": "79a55554ee333971",
   "metadata": {
    "ExecuteTime": {
     "end_time": "2025-07-22T14:18:15.728240Z",
     "start_time": "2025-07-22T14:18:15.690241Z"
    },
    "execution": {
     "iopub.execute_input": "2025-08-10T14:51:35.159655Z",
     "iopub.status.busy": "2025-08-10T14:51:35.159296Z",
     "iopub.status.idle": "2025-08-10T14:51:35.201083Z",
     "shell.execute_reply": "2025-08-10T14:51:35.200582Z"
    },
    "papermill": {
     "duration": 0.048146,
     "end_time": "2025-08-10T14:51:35.202577",
     "exception": false,
     "start_time": "2025-08-10T14:51:35.154431",
     "status": "completed"
    },
    "tags": []
   },
   "outputs": [],
   "source": [
    "df_vals = pd.read_parquet(f\"{data_dir}/test_data.parquet\")\n",
    "df_labels = pd.read_parquet(f\"{data_dir}/test_labels.parquet\").values.flatten()   # same order as df “columns”\n",
    "\n",
    "value_col  = df_vals.columns[1]            # change if needed\n",
    "label_col  = df_labels\n",
    "\n",
    "values = df_vals[value_col].astype(str).tolist()\n",
    "y_true = label_col\n",
    "\n",
    "# optional: same remap/lowercase you used in training\n",
    "\n",
    "y_true = np.array([x.lower() for x in y_true])"
   ]
  },
  {
   "cell_type": "code",
   "execution_count": 7,
   "id": "b6dd0d2f83cae5e5",
   "metadata": {
    "ExecuteTime": {
     "end_time": "2025-07-22T14:18:16.615045Z",
     "start_time": "2025-07-22T14:18:16.611073Z"
    },
    "execution": {
     "iopub.execute_input": "2025-08-10T14:51:35.207506Z",
     "iopub.status.busy": "2025-08-10T14:51:35.207325Z",
     "iopub.status.idle": "2025-08-10T14:51:35.209616Z",
     "shell.execute_reply": "2025-08-10T14:51:35.209203Z"
    },
    "papermill": {
     "duration": 0.006029,
     "end_time": "2025-08-10T14:51:35.210576",
     "exception": false,
     "start_time": "2025-08-10T14:51:35.204547",
     "status": "completed"
    },
    "tags": []
   },
   "outputs": [],
   "source": [
    "#len(df_labels)"
   ]
  },
  {
   "cell_type": "code",
   "execution_count": 8,
   "id": "7ae37582afaf2c32",
   "metadata": {
    "ExecuteTime": {
     "end_time": "2025-07-22T14:18:17.583294Z",
     "start_time": "2025-07-22T14:18:17.558044Z"
    },
    "execution": {
     "iopub.execute_input": "2025-08-10T14:51:35.215207Z",
     "iopub.status.busy": "2025-08-10T14:51:35.214893Z",
     "iopub.status.idle": "2025-08-10T14:51:35.227680Z",
     "shell.execute_reply": "2025-08-10T14:51:35.227235Z"
    },
    "papermill": {
     "duration": 0.016163,
     "end_time": "2025-08-10T14:51:35.228612",
     "exception": false,
     "start_time": "2025-08-10T14:51:35.212449",
     "status": "completed"
    },
    "tags": []
   },
   "outputs": [
    {
     "name": "stdout",
     "output_type": "stream",
     "text": [
      "Inference time: 0.01s\n"
     ]
    }
   ],
   "source": [
    "start = time.perf_counter()\n",
    "# Rule-based predictions\n",
    "y_pred = [classify_column([v]) for v in values]   # wrap each val in list\n",
    "end = time.perf_counter()\n",
    "\n",
    "inference_time = end - start\n",
    "print(f\"Inference time: {inference_time:.2f}s\")\n",
    "\n",
    "\n",
    "#print(\"Predicted by model\")\n",
    "#print(y_pred)\n",
    "# if classify_column returned None, keep it as special token\n",
    "y_pred = [\"__none__\" if p is None else p for p in y_pred]\n",
    "\n",
    "#print(\"After pred\")\n",
    "#print(y_pred)\n",
    "\n",
    "#print(y_pred)"
   ]
  },
  {
   "cell_type": "code",
   "execution_count": 9,
   "id": "9eea61802355c768",
   "metadata": {
    "ExecuteTime": {
     "end_time": "2025-07-22T14:18:20.206431Z",
     "start_time": "2025-07-22T14:18:20.181714Z"
    },
    "execution": {
     "iopub.execute_input": "2025-08-10T14:51:35.233100Z",
     "iopub.status.busy": "2025-08-10T14:51:35.232965Z",
     "iopub.status.idle": "2025-08-10T14:51:35.241528Z",
     "shell.execute_reply": "2025-08-10T14:51:35.240803Z"
    },
    "papermill": {
     "duration": 0.012056,
     "end_time": "2025-08-10T14:51:35.242590",
     "exception": false,
     "start_time": "2025-08-10T14:51:35.230534",
     "status": "completed"
    },
    "tags": []
   },
   "outputs": [
    {
     "name": "stdout",
     "output_type": "stream",
     "text": [
      "Macro-F1   : 0.4267\n",
      "Weighted F1: 0.7209\n",
      "                 precision    recall  f1-score   support\n",
      "\n",
      "       __none__      0.000     0.000     0.000         0\n",
      "            age      0.400     1.000     0.571         4\n",
      "    case_status      1.000     0.600     0.750         5\n",
      "contact_setting      1.000     0.500     0.667         2\n",
      "           date      1.000     0.960     0.980        25\n",
      "         gender      1.000     1.000     1.000         4\n",
      "             id      0.875     0.778     0.824         9\n",
      "       location      0.000     0.000     0.000        12\n",
      "medical_boolean      0.939     0.775     0.849        40\n",
      "     occupation      0.000     0.000     0.000         2\n",
      "        outcome      0.500     0.250     0.333         4\n",
      "       pathogen      0.000     0.000     0.000         0\n",
      "         source      0.000     0.000     0.000         0\n",
      "       symptoms      0.000     0.000     0.000         2\n",
      "\n",
      "       accuracy                          0.688       109\n",
      "      macro avg      0.480     0.419     0.427       109\n",
      "   weighted avg      0.780     0.688     0.721       109\n",
      "\n"
     ]
    }
   ],
   "source": [
    "# Output metrics\n",
    "macro_f1    = f1_score(y_true, y_pred, average=\"macro\", zero_division=0)\n",
    "weighted_f1 = f1_score(y_true, y_pred, average=\"weighted\", zero_division=0)\n",
    "\n",
    "print(f\"Macro-F1   : {macro_f1:.4f}\")\n",
    "print(f\"Weighted F1: {weighted_f1:.4f}\")\n",
    "\n",
    "present_ids   = np.unique(np.concatenate([y_true, y_pred]))\n",
    "print(classification_report(\n",
    "    y_true, y_pred,\n",
    "    labels=present_ids,\n",
    "    target_names=present_ids,\n",
    "    digits=3,\n",
    "    zero_division=0))"
   ]
  },
  {
   "cell_type": "code",
   "execution_count": 10,
   "id": "60b24fdd3e798805",
   "metadata": {
    "ExecuteTime": {
     "end_time": "2025-07-22T14:26:00.462016Z",
     "start_time": "2025-07-22T14:26:00.439547Z"
    },
    "execution": {
     "iopub.execute_input": "2025-08-10T14:51:35.247601Z",
     "iopub.status.busy": "2025-08-10T14:51:35.247269Z",
     "iopub.status.idle": "2025-08-10T14:51:35.258710Z",
     "shell.execute_reply": "2025-08-10T14:51:35.258046Z"
    },
    "papermill": {
     "duration": 0.015204,
     "end_time": "2025-08-10T14:51:35.259930",
     "exception": false,
     "start_time": "2025-08-10T14:51:35.244726",
     "status": "completed"
    },
    "tags": []
   },
   "outputs": [],
   "source": [
    "import os\n",
    "\n",
    "\n",
    "\n",
    "run_name = f\"rule-based-regex-run-{run_id}\"\n",
    "\n",
    "# 1. get the report dict\n",
    "raw_report = classification_report(\n",
    "    y_true, y_pred,\n",
    "    output_dict=True,\n",
    "    zero_division=0\n",
    ")\n",
    "\n",
    "n = len(y_true)\n",
    "\n",
    "# 2. flatten into a single dict\n",
    "flat = {}\n",
    "for label, metrics in raw_report.items():\n",
    "    if label == \"accuracy\":\n",
    "        flat[\"accuracy\"] = metrics\n",
    "    else:\n",
    "        for metric_name, val in metrics.items():\n",
    "            # replace any dashes so your CSV columns are valid identifiers\n",
    "            clean_metric = metric_name.replace(\"-\", \"_\")\n",
    "            flat[f\"{label}_{clean_metric}\"] = val\n",
    "\n",
    "# 3. add summary fields _after_ flattening\n",
    "flat[\"total_entries\"] = n\n",
    "flat[\"run_name\"]      = run_name\n",
    "flat[\"inference_time\"] = f\"{inference_time:.2f}s\"\n",
    "\n",
    "# 4. write once\n",
    "df = pd.DataFrame([flat])\n",
    "metrics_csv = os.path.join(out_dir, \"rule-based-metrics.csv\")\n",
    "\n",
    "# only write header if file doesn’t exist\n",
    "if not os.path.isfile(metrics_csv):\n",
    "    df.to_csv(metrics_csv, index=False, float_format=\"%.4f\")\n",
    "else:\n",
    "    df.to_csv(metrics_csv, mode=\"a\", header=False, index=False, float_format=\"%.4f\")"
   ]
  },
  {
   "cell_type": "code",
   "execution_count": null,
   "id": "52b0b6523d856abd",
   "metadata": {
    "papermill": {
     "duration": 0.001911,
     "end_time": "2025-08-10T14:51:35.263776",
     "exception": false,
     "start_time": "2025-08-10T14:51:35.261865",
     "status": "completed"
    },
    "tags": []
   },
   "outputs": [],
   "source": []
  }
 ],
 "metadata": {
  "kernelspec": {
   "display_name": "Python 3",
   "language": "python",
   "name": "python3"
  },
  "language_info": {
   "codemirror_mode": {
    "name": "ipython",
    "version": 3
   },
   "file_extension": ".py",
   "mimetype": "text/x-python",
   "name": "python",
   "nbconvert_exporter": "python",
   "pygments_lexer": "ipython3",
   "version": "3.7.16"
  },
  "papermill": {
   "default_parameters": {},
   "duration": 4.069407,
   "end_time": "2025-08-10T14:51:37.884933",
   "environment_variables": {},
   "exception": null,
   "input_path": "/home/omadbek/projects/Sherlock/sherlock_data_processing/rule-based-regex.ipynb",
   "output_path": "/home/omadbek/projects/run_all/out-notebooks-cta/rule-based-regex-results/rule-based-regex-results-out.ipynb",
   "parameters": {
    "data_dir": "/home/omadbek/projects/Sherlock/custom_data/raw",
    "out_dir": "/home/omadbek/projects/run_all/out-notebooks-cta/rule-based-regex-results",
    "run_id": 10
   },
   "start_time": "2025-08-10T14:51:33.815526",
   "version": "2.4.0"
  }
 },
 "nbformat": 4,
 "nbformat_minor": 5
}